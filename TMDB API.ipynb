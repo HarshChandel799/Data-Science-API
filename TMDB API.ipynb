{
 "cells": [
  {
   "cell_type": "markdown",
   "id": "e4bb2d8f",
   "metadata": {},
   "source": [
    "To fetch the id of the movie Andhadhundh using TMDB API"
   ]
  },
  {
   "cell_type": "code",
   "execution_count": 1,
   "id": "85f6994d",
   "metadata": {},
   "outputs": [
    {
     "name": "stdout",
     "output_type": "stream",
     "text": [
      "534780\n"
     ]
    }
   ],
   "source": [
    "import requests\n",
    "api_key = \"a4a42444412251b03575f0df175d6b85\"\n",
    "api_link = \"https://api.themoviedb.org/3\"\n",
    "params = {'query':\"Andhadhun\", 'api_key':api_key}\n",
    "header = {'Accept': 'application/json'}\n",
    "response = requests.get(api_link + \"/search/movie\", headers = header, params=params)\n",
    "data = response.json()\n",
    "results = data.get('results') \n",
    "for result in results:\n",
    "     if result.get('title') == 'Andhadhun':\n",
    "            print(result.get('id'))         \n",
    "   "
   ]
  },
  {
   "cell_type": "markdown",
   "id": "8b941fcc",
   "metadata": {},
   "source": [
    "To fetch the company id \n",
    "company - 'Marvel Studios'"
   ]
  },
  {
   "cell_type": "code",
   "execution_count": 2,
   "id": "9261213b",
   "metadata": {},
   "outputs": [
    {
     "name": "stdout",
     "output_type": "stream",
     "text": [
      "420\n"
     ]
    }
   ],
   "source": [
    "import requests\n",
    "## Write your code here\n",
    "api_key = \"a4a42444412251b03575f0df175d6b85\"\n",
    "api_link = \"https://api.themoviedb.org/3\"\n",
    "params = {'query':'Marvel Studios', 'api_key':api_key}\n",
    "header = {'Accept': 'application/json'}\n",
    "response = requests.get(api_link + \"/search/company\", headers = header, params=params)\n",
    "a = response.json()\n",
    "results = a.get('results') \n",
    "for result in results:\n",
    "    print(result['id'])"
   ]
  },
  {
   "cell_type": "markdown",
   "id": "94bccec4",
   "metadata": {},
   "source": [
    "Fetch the vote count and vote average of the movie \"3 Idiots\" using the TMDb API"
   ]
  },
  {
   "cell_type": "code",
   "execution_count": 5,
   "id": "c56ab580",
   "metadata": {},
   "outputs": [
    {
     "name": "stdout",
     "output_type": "stream",
     "text": [
      "vote count : 1886\n",
      "vote average : 8\n"
     ]
    }
   ],
   "source": [
    "import requests\n",
    "## Write your code here\n",
    "api_key = \"a4a42444412251b03575f0df175d6b85\"\n",
    "api_link = \"https://api.themoviedb.org/3\"\n",
    "params = {'query':'3 Idiots', 'api_key':api_key}\n",
    "header = {'Accept': 'application/json'}\n",
    "response = requests.get(api_link + \"/search/movie\", headers = header, params=params)\n",
    "a  = response.json()\n",
    "'''print(a)'''\n",
    "results = a.get('results') \n",
    "for result in results:\n",
    "    print(\"vote count : \" ,end=\"\")\n",
    "    print(result['vote_count'])\n",
    "    print(\"vote average : \",end=\"\" )\n",
    "    print(result['vote_average'])\n",
    "    break"
   ]
  },
  {
   "cell_type": "markdown",
   "id": "d602cec8",
   "metadata": {},
   "source": [
    "Fetch the names of top 5 similar movies to 'Inception' from the TMDb API."
   ]
  },
  {
   "cell_type": "code",
   "execution_count": 6,
   "id": "bf173a3a",
   "metadata": {},
   "outputs": [
    {
     "name": "stdout",
     "output_type": "stream",
     "text": [
      "Inception\n",
      "Now You See Me 2\n",
      "The Theory of Everything\n",
      "Billy Lynn's Long Halftime Walk\n",
      "Kidnap\n"
     ]
    }
   ],
   "source": [
    "import requests\n",
    "api_key = \"a4a42444412251b03575f0df175d6b85\" \n",
    "api_link = \"https://api.themoviedb.org/3\" \n",
    "params = {'query':\"Inception\", 'api_key':api_key}\n",
    "header = {'Accept': 'application/json'}\n",
    "response = requests.get(api_link + \"/search/movie\", headers = header, params=params)\n",
    "data = response.json()\n",
    "results = data.get('results')\n",
    "for result in results:\n",
    "    if result.get('title') == 'Inception':\n",
    "        id = result.get('id')\n",
    "params2 = {'api_key':api_key}\n",
    "response2 = requests.get(api_link + \"/movie/\" + str(id) + \"/similar\", headers = header, params=params2)\n",
    "data2 = response2.json()\n",
    "results2 = data2.get('results')\n",
    "for result in results2[:5]:\n",
    "    print(result.get(\"title\"))\n",
    "            "
   ]
  },
  {
   "cell_type": "markdown",
   "id": "a6d3da91",
   "metadata": {},
   "source": [
    "Fetch the top rated english movies in the US region using the TMDb API. From the result, print the first 10 movies which have original language as english and print their genres"
   ]
  },
  {
   "cell_type": "code",
   "execution_count": 7,
   "id": "9ed2d744",
   "metadata": {},
   "outputs": [
    {
     "name": "stdout",
     "output_type": "stream",
     "text": [
      "The Shawshank Redemption - Drama, Crime, \n",
      "The Godfather - Drama, Crime, \n",
      "Schindler's List - Drama, History, War, \n",
      "The Godfather Part II - Drama, Crime, \n",
      "12 Angry Men - Drama, \n",
      "Gabriel's Inferno - Romance, \n",
      "Gabriel's Inferno: Part II - Romance, \n",
      "The Green Mile - Fantasy, Drama, Crime, \n",
      "The Dark Knight - Drama, Action, Crime, Thriller, \n",
      "Pulp Fiction - Thriller, Crime, \n"
     ]
    }
   ],
   "source": [
    "import requests \n",
    "\n",
    "api_key = \"a4a42444412251b03575f0df175d6b85\" \n",
    "api_link = \"https://api.themoviedb.org/3\" \n",
    "header = {'Accept': 'application/json'} \n",
    "params = {'api_key':api_key, 'region':'US'} \n",
    "response = requests.get(api_link + \"/movie/top_rated\", headers = header, params = params) \n",
    "\n",
    "data = response.json() \n",
    "results = data.get('results') \n",
    "\n",
    "title_array = [] \n",
    "genre_id_array = [] \n",
    "\n",
    "for result in results: \n",
    "    if result.get('original_language') == 'en': \n",
    "        title_array.append(result.get('title')) \n",
    "        genre_id_array.append(result.get('genre_ids')) \n",
    "        \n",
    "# To get the genre name corresponding to genre_id \n",
    "response2 = requests.get(api_link + \"/genre/movie/list\", headers = header, params = params) \n",
    "data2 = response2.json() \n",
    "genres = data2.get('genres') \n",
    "mapping = {} \n",
    "\n",
    "for genre in genres: \n",
    "    mapping[genre.get('id')] = genre.get('name') \n",
    "\n",
    "for i in range(10): \n",
    "    print(title_array[i], \"-\", end=\" \") \n",
    "    for id in genre_id_array[i]: \n",
    "        print(mapping.get(id), end = \", \") \n",
    "    print()"
   ]
  },
  {
   "cell_type": "markdown",
   "id": "614fd92e",
   "metadata": {},
   "source": [
    "Fetch the name and birthplace of the present most popular person according to TMDb API."
   ]
  },
  {
   "cell_type": "code",
   "execution_count": 9,
   "id": "b6b82e51",
   "metadata": {},
   "outputs": [
    {
     "name": "stderr",
     "output_type": "stream",
     "text": [
      "C:\\Users\\ajayc\\anaconda3\\lib\\site-packages\\urllib3\\connectionpool.py:1013: InsecureRequestWarning: Unverified HTTPS request is being made to host 'api.themoviedb.org'. Adding certificate verification is strongly advised. See: https://urllib3.readthedocs.io/en/latest/advanced-usage.html#ssl-warnings\n",
      "  warnings.warn(\n",
      "C:\\Users\\ajayc\\anaconda3\\lib\\site-packages\\urllib3\\connectionpool.py:1013: InsecureRequestWarning: Unverified HTTPS request is being made to host 'api.themoviedb.org'. Adding certificate verification is strongly advised. See: https://urllib3.readthedocs.io/en/latest/advanced-usage.html#ssl-warnings\n",
      "  warnings.warn(\n"
     ]
    },
    {
     "name": "stdout",
     "output_type": "stream",
     "text": [
      "id : 1907997\n",
      "Min Do-yoon - Seoul, South Korea\n"
     ]
    }
   ],
   "source": [
    "import requests\n",
    "## Write your code here\n",
    "api_key = \"a4a42444412251b03575f0df175d6b85\"\n",
    "api_link = \"https://api.themoviedb.org/3\"\n",
    "params = {'api_key':api_key,'language':'en-US'}\n",
    "header = {'Accept': 'application/json'}\n",
    "response = requests.get(api_link + \"/person/popular\", headers = header, params=params,verify=False)\n",
    "data = response.json()\n",
    "id = data['results'][0]['id']\n",
    "response = requests.get(api_link + \"/person/\"+str(id), headers = header, params=params,verify=False)\n",
    "print(\"id : \",end=\"\") \n",
    "print(data['results'][0]['id'])\n",
    "print(data['results'][0]['name'],end=' - ')\n",
    "print(response.json()['place_of_birth'])"
   ]
  },
  {
   "cell_type": "markdown",
   "id": "a392914d",
   "metadata": {},
   "source": [
    "Fetch the Instagram and Twitter handle of Indian Actress \"Alia Bhatt\" from the TMDb API."
   ]
  },
  {
   "cell_type": "code",
   "execution_count": 13,
   "id": "50abb745",
   "metadata": {},
   "outputs": [
    {
     "name": "stdout",
     "output_type": "stream",
     "text": [
      "instagram :  aliaabhatt\n",
      "Twitter :  Aliaa08\n"
     ]
    }
   ],
   "source": [
    "import requests\n",
    "api_key = \"e226f4a5f5bace766952aa0d17182959\" \n",
    "api_link = \"https://api.themoviedb.org/3\"\n",
    "params = {'query':\"Alia Bhatt\" , 'api_key':api_key} \n",
    "header = {'Accept': 'application/json'} \n",
    "response = requests.get(api_link + '/search/person', headers = header, params = params) \n",
    "data = response.json() \n",
    "id = data.get('results')[0].get('id')\n",
    "params2 = {'api_key':api_key} \n",
    "response2 = requests.get(api_link + \"/person/\"+ str(id) +\"/external_ids\" , headers = header, params = params2) \n",
    "data2 = response2.json() \n",
    "print(\"instagram : \",data2.get(\"instagram_id\"))\n",
    "print(\"Twitter : \",data2.get(\"twitter_id\"))\n"
   ]
  },
  {
   "cell_type": "markdown",
   "id": "0f7dac15",
   "metadata": {},
   "source": [
    "Fetch the names of the character played by Tom Cruise in the movies"
   ]
  },
  {
   "cell_type": "code",
   "execution_count": 14,
   "id": "d4722c26",
   "metadata": {},
   "outputs": [
    {
     "name": "stdout",
     "output_type": "stream",
     "text": [
      "Lt. Pete 'Maverick' Mitchell\n",
      "Ethan Hunt\n",
      "Chief John Anderton\n",
      "Maj. William 'Bill' Cage\n"
     ]
    }
   ],
   "source": [
    "import requests \n",
    "api_key = 'a4a42444412251b03575f0df175d6b85'\n",
    "api_link = \"https://api.themoviedb.org/3\" \n",
    "header = {\"Accept\":\"application/json\"} \n",
    "params = {'query':'Tom Cruise','api_key':api_key} \n",
    "response = requests.get(api_link+\"/search/person/\",headers=header,params=params) \n",
    "data = response.json() \n",
    "results = data.get('results')\n",
    "id = results[0]['id'] \n",
    "params2 = {'api_key':api_key}\n",
    "response2 = requests.get(api_link+'/person/'+str(id)+'/movie_credits',headers=header,params=params2)\n",
    "data2 = response2.json() \n",
    "cast_result = data2.get('cast') \n",
    "for cast in cast_result:\n",
    "    if cast.get('original_title') == 'Top Gun':\n",
    "        print(cast.get('character')) \n",
    "for cast in cast_result:\n",
    "    if cast.get('original_title') == 'Mission: Impossible - Fallout':\n",
    "        print(cast.get('character'))\n",
    "for cast in cast_result:\n",
    "    if cast.get('original_title') == 'Minority Report':\n",
    "        print(cast.get('character')) \n",
    "for cast in cast_result:\n",
    "    if cast.get('original_title') == 'Edge of Tomorrow':\n",
    "        print(cast.get('character'))"
   ]
  },
  {
   "cell_type": "markdown",
   "id": "f4d9502f",
   "metadata": {},
   "source": [
    "Fetch the overview of the TV Show \"FRIENDS\" using TMDb API."
   ]
  },
  {
   "cell_type": "code",
   "execution_count": 15,
   "id": "6c13805e",
   "metadata": {},
   "outputs": [
    {
     "name": "stdout",
     "output_type": "stream",
     "text": [
      "Six young people from New York City, on their own and struggling to survive in the real world, find the companionship, comfort and support they get from each other to be the perfect antidote to the pressures of life.\n",
      "Thomas & Friends is a British children's television series, which had its first broadcast on the ITV network on 4 September 1984. It is based on The Railway Series of books by the Reverend Wilbert Awdry and his son, Christopher Awdry. These books deal with the adventures of a group of anthropomorphised locomotives and road vehicles who live on the fictional Island of Sodor. The books were based on stories Wilbert told to entertain his son, Christopher during his recovery from measles. From Series one to four, many of the stories are based on events from Awdry's personal experience.\n",
      "Smiling Friends Inc. is a small company whose main purpose is to bring happiness and make people smile. The series follows the day-to-day lives and misadventures of its representatives, the lazy, cynical Charlie, and the cheerful, optimistic Pim, as they try to cheer up and comfort the troubled people who call their company's hotline. They receive seemingly simple requests but the jobs turn out to be more complicated than they seem, making it difficult to bring happiness to the world.\n",
      "The animated stories of Garfield the cat, Odie the dog, their owner Jon and the trouble they get into. And also Orson the Pig and his adventures on a farm with his fellow farm animals.\n",
      "Barney & Friends is an American children's television series aimed at children from ages 2 to 5. The series, which first aired on April 6, 1992, features the title character Barney, a purple anthropomorphic Tyrannosaurus rex who conveys educational messages through songs and small dance routines with a friendly, optimistic attitude.\n",
      "\n",
      "New episodes have not been produced since 2009; however reruns continue to air on various PBS stations.\n",
      "This action and adventure comedy is drawn in simple appearance and combines cute forest animals with extreme graphic violence. Each episode revolves around the characters enduring accidental events of bloodshed, pain, dismemberment and/or death.\n",
      "Children who create imaginary friends usually take care of them until they are 7-8 years old. Imaginary friends, left on their own after this event, continue to live in this home founded by old Madam Foster.\n",
      "Follow Peter Parker, Gwen Stacy and Miles Morales and their adventures as the young heroes team up with Hulk, Ms. Marvel and Black Panther to defeat foes like Rhino, Doc Ock and Green Goblin and learn that teamwork is the best way to save the day.\n",
      "Armed with technological gear, great ideas and an unfailing sense of humour, Talking Tom and his friends are on a mission to reach stardom at all costs.\n",
      "The most powerful heroes ever--Superman, Wonder Woman, Aquaman, Batman and Robin--join forces with teenagers Wendy and Marvin and their dog, Marvel the Wonderdog, to defend justice and guard the innocent.\n",
      "Spider-Man and His Amazing Friends is an American animated television series produced by Marvel Productions starring established Marvel Comics characters Spider-Man and Iceman and an original character, Firestar. As a trio called the Spider-Friends, they fought against various villains.\n",
      "When their aspiring scientist friend Barry's invention goes awry, best friends Shelby and Cyd gain the power to leap forward and backward in time whenever they want – and sometimes when they don't. Now, they experience the twists and turns of friendship and must decide between fixing mistakes in the past or catching a glimpse of the future. While Barry and his assistant, Naldo, try to figure out how to replicate time travel for themselves, Cyd and Shelby use their newfound power to navigate high school life and Shelby's mischievous twin brothers, Bret and Chet.\n",
      "Pooh, Tigger, and friends from the Hundred Acre Wood welcome new neighbors — an adorable six-year-old girl named Darby and her puppy, Buster. With the help of adventurous super sleuths Tigger and Pooh, every episode revolves around the solving of a mystery and an interactive curriculum that encourages viewers to help them out.\n",
      "Revolving around a group of twentysomething singles as they navigate the difficult, sometimes rewarding, often confusing world of dating. Loyal and devoted to one another, these friends are never too busy to help a member of the group who might be in need. In fact, their companionship often extends into a more intimate setting - the bedroom.\n",
      "Meet Andrea, Mia, Emma, Olivia and Stephanie. They're five best friends. And they're on a heroic mission: to save Heartlake City from wily swindlers.\n",
      "An educative series for children over 18 years old that explores sexuality without taboos and in all its forms, including dicks and nipples. A positive sexuality, that is unrestrained and totally ignores prejudices… culminating into one single message: tolerance.\n",
      "Four Angels  and four Devils are sent to Earth, in an unused area of the Golden School, where they learn everything they need to become Guardian Angels and Guardian Devils.\n",
      "Five Best Friends Go on Many Fun Lego adventures.\n",
      "Twenty years after graduation, a tight-knit group of college friends reconnects and discovers that love hasn't gotten easier with age.\n",
      "\n"
     ]
    }
   ],
   "source": [
    "import requests\n",
    "## Write your code here\n",
    "api_key = \"a4a42444412251b03575f0df175d6b85\"\n",
    "api_link = \"https://api.themoviedb.org/3\"\n",
    "params = {'query':'FRIENDS', 'api_key':api_key}\n",
    "header = {'Accept': 'application/json'}\n",
    "response = requests.get(api_link + \"/search/tv\", headers = header, params=params)\n",
    "a = response.json()\n",
    "result = a.get('results')\n",
    "for i in result:\n",
    "    print(i['overview'])"
   ]
  },
  {
   "cell_type": "markdown",
   "id": "2bf4630c",
   "metadata": {},
   "source": [
    "Fetch the trending TV Shows for the week from the TMDb API and print the taglines of the top 5 shows."
   ]
  },
  {
   "cell_type": "code",
   "execution_count": 16,
   "id": "75d0ec14",
   "metadata": {},
   "outputs": [
    {
     "name": "stdout",
     "output_type": "stream",
     "text": [
      "Empty\n",
      "Fire and blood.\n",
      "You'll like her when she's angry.\n",
      "Dream the world anew.\n",
      "A new vision of the future.\n"
     ]
    }
   ],
   "source": [
    "import requests\n",
    "api_key = \"a4a42444412251b03575f0df175d6b85\" \n",
    "api_link = \"https://api.themoviedb.org/3\" \n",
    "params = {'api_key':api_key} \n",
    "header = {'Accept': 'application/json'}\n",
    "response = requests.get(api_link + \"/trending/tv/week\", headers = header, params = params)\n",
    "data = response.json() \n",
    "results = data.get(\"results\")\n",
    "data \n",
    "ids=[]\n",
    "for result in results[:5]: \n",
    "    ids.append(result.get(\"id\"))\n",
    "for id in ids: \n",
    "    response2 = requests.get(api_link + \"/tv/\" + str(id) , headers = header, params = params)\n",
    "    data2 = response2.json() \n",
    "    if (data2.get(\"tagline\")) != \"\": \n",
    "        print(data2.get(\"tagline\")) \n",
    "    else: print('Empty')\n"
   ]
  },
  {
   "cell_type": "code",
   "execution_count": null,
   "id": "7c0b37e8",
   "metadata": {},
   "outputs": [],
   "source": []
  }
 ],
 "metadata": {
  "kernelspec": {
   "display_name": "Python 3 (ipykernel)",
   "language": "python",
   "name": "python3"
  },
  "language_info": {
   "codemirror_mode": {
    "name": "ipython",
    "version": 3
   },
   "file_extension": ".py",
   "mimetype": "text/x-python",
   "name": "python",
   "nbconvert_exporter": "python",
   "pygments_lexer": "ipython3",
   "version": "3.8.8"
  }
 },
 "nbformat": 4,
 "nbformat_minor": 5
}
